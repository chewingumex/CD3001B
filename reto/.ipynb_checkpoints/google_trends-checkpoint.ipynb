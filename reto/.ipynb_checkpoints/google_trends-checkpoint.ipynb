{
 "cells": [
  {
   "cell_type": "code",
   "execution_count": 1,
   "id": "9c3be0cc-b2f9-445f-9057-615c361f06eb",
   "metadata": {},
   "outputs": [],
   "source": [
    "import numpy as np\n",
    "import pandas as pd\n",
    "from datetime import datetime, timedelta\n",
    "import os\n",
    "import json\n",
    "import requests\n",
    "import time\n",
    "import re\n",
    "from pytrends.request import TrendReq\n",
    "import pytrends\n",
    "import math\n",
    "import itertools\n",
    "from sklearn.preprocessing import minmax_scale\n",
    "import pickle"
   ]
  },
  {
   "cell_type": "code",
   "execution_count": 2,
   "id": "93ea194d-e2ad-44a8-a079-cf9417b36dc7",
   "metadata": {},
   "outputs": [],
   "source": [
    "######################## checar https://pypi.org/project/pytrends/\n",
    "######################## https://lazarinastoy.com/the-ultimate-guide-to-pytrends-google-trends-api-with-python/"
   ]
  },
  {
   "cell_type": "code",
   "execution_count": 3,
   "id": "e7ce7e03-205d-4e72-a880-e22fa3cc5baf",
   "metadata": {},
   "outputs": [],
   "source": [
    "def get_related_queries(kw_list: list) -> dict:\n",
    "    \n",
    "    related_queries = {}\n",
    "    \n",
    "    for keyword in kw_list:\n",
    "    \n",
    "        time.sleep(3)\n",
    "    \n",
    "        pytrend = TrendReq(hl='es-419', \n",
    "                           tz=360, \n",
    "                           timeout= None, \n",
    "                           retries = 0,\n",
    "                           requests_args={'verify':True})\n",
    "    \n",
    "        pytrend.build_payload(kw_list=[keyword], geo='MX')\n",
    "    \n",
    "        time.sleep(3)\n",
    "    \n",
    "        try:\n",
    "            related_queries[keyword] = pytrend.related_queries()\n",
    "            print('crawled, yay')\n",
    "    \n",
    "        except Exception as e:\n",
    "            print('oops, that went wrong')\n",
    "            pass\n",
    "    \n",
    "    return related_queries\n",
    "\n",
    "\n",
    "def get_gtrend_outputs(terms, \n",
    "                       input_date_start = '2018-11-01',\n",
    "                       input_date_end = '2022-11-01',\n",
    "                       gt_country_code = 'MX', \n",
    "                       search_type='web'):\n",
    "    \n",
    "    # Tidy inputs\n",
    "    terms = [x.lower() for x in terms] \n",
    "    terms = [re.sub('\\u200b','',x) for x in terms]\n",
    "    date_text = input_date_start+\" \"+input_date_end\n",
    "\n",
    "    # Get index outputs\n",
    "\n",
    "    indices = {}\n",
    "    failed = []\n",
    "    failed2 =[]\n",
    "    \n",
    "    for term in terms:\n",
    "        print(term)\n",
    "        time.sleep(3)\n",
    "        try:\n",
    "            pytrend = TrendReq()\n",
    "            pytrend.build_payload(kw_list=[term], geo=gt_country_code, timeframe = date_text, gprop = \"\")\n",
    "            indices[term] = pytrend.interest_over_time()\n",
    "        except:\n",
    "            failed.append(term)\n",
    "            print('failed to get ' + str(term))\n",
    "            continue\n",
    "    \n",
    "    for term in failed:\n",
    "        print(term)\n",
    "        time.sleep(3)\n",
    "        try:\n",
    "            pytrend = TrendReq()\n",
    "            pytrend.build_payload(kw_list=[term], geo=gt_country_code, timeframe = date_text, gprop = \"\")\n",
    "            indices[term] = pytrend.interest_over_time()\n",
    "        except:\n",
    "            failed2.append(term)\n",
    "            print('failed to get ' + str(term))\n",
    "            continue\n",
    "    \n",
    "    for term in failed2:\n",
    "        print(term)\n",
    "        time.sleep(3)\n",
    "        try:\n",
    "            pytrend = TrendReq()\n",
    "            pytrend.build_payload(kw_list=[term], geo=gt_country_code, timeframe = date_text, gprop = \"\")\n",
    "            indices[term] = pytrend.interest_over_time()\n",
    "        except:\n",
    "            print('failed to get for the last time ' + str(term))\n",
    "            continue\n",
    "    \n",
    "    \n",
    "    colnames = list(indices.keys())\n",
    "    \n",
    "    print('number of cols retrieved = ' + str(len(colnames)) + ' out of ' + str(len(kw)))\n",
    "    \n",
    "    indices_pd = pd.concat([pd.concat([indices[colnames[i]]], axis=1) for i in range(len(colnames))],axis=1).drop('isPartial', axis=1)\n",
    "\n",
    "    return indices_pd"
   ]
  },
  {
   "cell_type": "code",
   "execution_count": 5,
   "id": "018ff513-0df1-423d-a1a1-e85911d45fd6",
   "metadata": {
    "tags": []
   },
   "outputs": [],
   "source": [
    "#############################################################\n",
    "# busquedas relacionadas ####################################\n",
    "\n",
    "kw = ['humo en el radiador']"
   ]
  },
  {
   "cell_type": "code",
   "execution_count": 6,
   "id": "d7b366b3-2167-416d-b3fe-5d4347928914",
   "metadata": {},
   "outputs": [
    {
     "name": "stdout",
     "output_type": "stream",
     "text": [
      "crawled, yay\n",
      "crawled, yay\n",
      "crawled, yay\n"
     ]
    }
   ],
   "source": [
    "# esta función devuelve un diccionario donde cada key es el keyword (queda repetido el keyword ojo)\n",
    "# y dentro hay otro diccionario donde las keys son 'top' y 'rising' y los valores son data frames con los top y rising \n",
    "# busquedas relacionadas al keyword\n",
    "\n",
    "related_queries = get_related_queries(kw)"
   ]
  },
  {
   "cell_type": "code",
   "execution_count": null,
   "id": "965517ec-008a-4ad2-bbab-06380f00afa9",
   "metadata": {},
   "outputs": [],
   "source": [
    "#############################################################\n",
    "# busquedas por fecha #######################################"
   ]
  },
  {
   "cell_type": "code",
   "execution_count": 36,
   "id": "7d053e2d-d0ae-4d73-b5de-c42ce1873a1d",
   "metadata": {
    "tags": []
   },
   "outputs": [
    {
     "data": {
      "text/plain": [
       "{'autozone',\n",
       " 'deyac',\n",
       " 'deyac radiadores',\n",
       " 'mofles',\n",
       " 'mofles y radiadores cerca de mi',\n",
       " 'octavio vazquez',\n",
       " 'radiador',\n",
       " 'radiadores california',\n",
       " 'radiadores cerca de mi',\n",
       " 'radiadores cerca de mi ubicación',\n",
       " 'radiadores chihuahua',\n",
       " 'radiadores de la frontera',\n",
       " 'radiadores de la frontera cd juárez',\n",
       " 'radiadores frontera',\n",
       " 'radiadores frontera sa de cv',\n",
       " 'radiadores guadalajara',\n",
       " 'radiadores mexico',\n",
       " 'radiadores monterrey',\n",
       " 'radiadores phar',\n",
       " 'radiadores polar',\n",
       " 'radiadores queretaro',\n",
       " 'radiadores runsa ciudad de méxico',\n",
       " 'radiadores tijuana',\n",
       " 'rasa',\n",
       " 'rasa radiadores',\n",
       " 'refaccionaria',\n",
       " 'reparacion de radiadores',\n",
       " 'reparación de radiadores',\n",
       " 'reparación de radiadores cerca de mí',\n",
       " 'runsa',\n",
       " 'runsa radiadores',\n",
       " 'taller de radiadores',\n",
       " 'taller de radiadores cerca de mi',\n",
       " 'taller de radiadores cerca de mi ubicación',\n",
       " 'venta de radiadores'}"
      ]
     },
     "execution_count": 36,
     "metadata": {},
     "output_type": "execute_result"
    }
   ],
   "source": [
    "set(suggested_queries['radiadores']['radiadores']['top']['query'].to_list() + suggested_queries['radiadores']['radiadores']['rising']['query'].to_list())"
   ]
  },
  {
   "cell_type": "code",
   "execution_count": 28,
   "id": "71202277-004c-4780-8be6-03289051e78f",
   "metadata": {
    "tags": []
   },
   "outputs": [
    {
     "name": "stdout",
     "output_type": "stream",
     "text": [
      "radiador\n",
      "radiadores frontera\n",
      "mofles\n",
      "autozone\n",
      "venta de radiadores\n",
      "taller de radiadores\n",
      "reparacion de radiadores\n",
      "refaccionaria\n",
      "runsa\n",
      "runsa radiadores\n",
      "radiadores monterrey\n",
      "radiadores tijuana\n",
      "rasa radiadores\n",
      "rasa\n",
      "radiadores guadalajara\n",
      "radiadores mexico\n",
      "radiadores phar\n",
      "reparación de radiadores\n",
      "failed to get reparación de radiadores\n",
      "radiadores queretaro\n",
      "radiadores california\n",
      "radiadores de la frontera\n",
      "radiadores chihuahua\n",
      "deyac radiadores\n",
      "deyac\n",
      "radiadores cerca de mi\n",
      "reparación de radiadores\n",
      "number of cols retrieved = 25 out of 3\n"
     ]
    }
   ],
   "source": [
    "gtrends = get_gtrend_outputs(suggested_queries['radiadores']['radiadores']['top']['query'].to_list(), \n",
    "                             input_date_start = '2020-02-01',\n",
    "                             input_date_end = '2024-02-01',\n",
    "                             gt_country_code = 'MX', \n",
    "                             search_type='web')"
   ]
  },
  {
   "cell_type": "code",
   "execution_count": 32,
   "id": "535227f0-dee4-47a4-b8fe-f0ef2b79ef49",
   "metadata": {
    "tags": []
   },
   "outputs": [
    {
     "data": {
      "text/plain": [
       "(209, 25)"
      ]
     },
     "execution_count": 32,
     "metadata": {},
     "output_type": "execute_result"
    }
   ],
   "source": [
    "gtrends.shape"
   ]
  }
 ],
 "metadata": {
  "kernelspec": {
   "display_name": "Python 3 (ipykernel)",
   "language": "python",
   "name": "python3"
  },
  "language_info": {
   "codemirror_mode": {
    "name": "ipython",
    "version": 3
   },
   "file_extension": ".py",
   "mimetype": "text/x-python",
   "name": "python",
   "nbconvert_exporter": "python",
   "pygments_lexer": "ipython3",
   "version": "3.11.2"
  }
 },
 "nbformat": 4,
 "nbformat_minor": 5
}
